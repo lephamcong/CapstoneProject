{
  "cells": [
    {
      "cell_type": "code",
      "execution_count": null,
      "metadata": {
        "colab": {
          "base_uri": "https://localhost:8080/"
        },
        "id": "Y-x4xX3Matqj",
        "outputId": "2ec151b4-db3f-4a84-a7a5-c4c2f4cbe8b3"
      },
      "outputs": [
        {
          "ename": "",
          "evalue": "",
          "output_type": "error",
          "traceback": [
            "\u001b[1;31mRunning cells with 'Python 3.12.3' requires the ipykernel package.\n",
            "\u001b[1;31mRun the following command to install 'ipykernel' into the Python environment. \n",
            "\u001b[1;31mCommand: '/bin/python3 -m pip install ipykernel -U --user --force-reinstall'"
          ]
        }
      ],
      "source": [
        "# from google.colab import drive\n",
        "# drive.mount('/content/drive')"
      ]
    },
    {
      "cell_type": "code",
      "execution_count": null,
      "metadata": {
        "colab": {
          "base_uri": "https://localhost:8080/"
        },
        "id": "DYBtd4MWbJoG",
        "outputId": "756af2e0-9e32-45e6-a7a8-cb97a7557da9"
      },
      "outputs": [
        {
          "name": "stdout",
          "output_type": "stream",
          "text": [
            "/content/drive/MyDrive/CAPSTONE2025/RL\n",
            "TBSArray.csv  test1.ipynb\n"
          ]
        }
      ],
      "source": [
        "# %cd /content/drive/MyDrive/CAPSTONE2025/RL\n",
        "# !ls"
      ]
    },
    {
      "cell_type": "code",
      "execution_count": null,
      "metadata": {
        "id": "iRPFIC4Lb1tJ"
      },
      "outputs": [],
      "source": [
        "import csv\n",
        "\n",
        "def read_csv_to_2d_array(filepath):\n",
        "    \"\"\"Reads a CSV file and returns its contents as a 2D array.\n",
        "\n",
        "    Args:\n",
        "        filepath: The path to the CSV file.\n",
        "\n",
        "    Returns:\n",
        "        A 2D array (list of lists) representing the CSV data, or None if an error occurs.\n",
        "    \"\"\"\n",
        "    data = []\n",
        "    try:\n",
        "        with open(filepath, 'r', encoding='utf-8') as file:  # Handle potential encoding issues\n",
        "            reader = csv.reader(file)\n",
        "            for row in reader:\n",
        "                data.append(row)\n",
        "        return data\n",
        "    except FileNotFoundError:\n",
        "        print(f\"Error: File not found at '{filepath}'\")\n",
        "        return None\n",
        "    except Exception as e:\n",
        "        print(f\"An error occurred: {e}\")\n",
        "        return None\n",
        "\n",
        "# Example usage (replace 'your_file.csv' with the actual file path):\n",
        "file_path = '/content/drive/MyDrive/CAPSTONE2025/RL/your_file.csv' #  update with your file name\n",
        "two_dimensional_array = read_csv_to_2d_array(file_path)\n",
        "\n"
      ]
    }
  ],
  "metadata": {
    "colab": {
      "provenance": []
    },
    "kernelspec": {
      "display_name": "Python 3",
      "name": "python3"
    },
    "language_info": {
      "name": "python",
      "version": "3.12.3"
    }
  },
  "nbformat": 4,
  "nbformat_minor": 0
}
